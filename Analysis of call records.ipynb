{
 "cells": [
  {
   "cell_type": "markdown",
   "metadata": {},
   "source": [
    "# Analysis of call records\n",
    "\n",
    "This notebook shows the code for the analysis and distribution of the personal call records. The aim is to find a relationship between creditworthiness and this analysis.\n",
    "\n",
    "## Importing necessary libraries"
   ]
  },
  {
   "cell_type": "code",
   "execution_count": 1,
   "metadata": {},
   "outputs": [],
   "source": [
    "import pandas as pd\n",
    "import numpy as np\n",
    "import matplotlib.pyplot as plt\n",
    "import seaborn as sns\n",
    "from datetime import timedelta\n",
    "from pandas import DataFrame\n",
    "\n",
    "%matplotlib inline"
   ]
  },
  {
   "cell_type": "markdown",
   "metadata": {},
   "source": [
    "## Importing the dataset\n",
    "\n",
    "* The column **Date** needs to be converted to **pd.to_datetime** so that computation can be made possble.\n",
    "* The other column **Duration** is actually the time duration of the call. Hence, it needs to be converted to **pd.to_timedelta** to be made suitable for computation"
   ]
  },
  {
   "cell_type": "code",
   "execution_count": 2,
   "metadata": {},
   "outputs": [
    {
     "name": "stdout",
     "output_type": "stream",
     "text": [
      "Name                    object\n",
      "phoneNumber              int64\n",
      "Date            datetime64[ns]\n",
      "Call log                object\n",
      "Duration       timedelta64[ns]\n",
      "dtype: object\n"
     ]
    },
    {
     "data": {
      "text/html": [
       "<div>\n",
       "<style scoped>\n",
       "    .dataframe tbody tr th:only-of-type {\n",
       "        vertical-align: middle;\n",
       "    }\n",
       "\n",
       "    .dataframe tbody tr th {\n",
       "        vertical-align: top;\n",
       "    }\n",
       "\n",
       "    .dataframe thead th {\n",
       "        text-align: right;\n",
       "    }\n",
       "</style>\n",
       "<table border=\"1\" class=\"dataframe\">\n",
       "  <thead>\n",
       "    <tr style=\"text-align: right;\">\n",
       "      <th></th>\n",
       "      <th>Name</th>\n",
       "      <th>phoneNumber</th>\n",
       "      <th>Date</th>\n",
       "      <th>Call log</th>\n",
       "      <th>Duration</th>\n",
       "    </tr>\n",
       "  </thead>\n",
       "  <tbody>\n",
       "    <tr>\n",
       "      <th>0</th>\n",
       "      <td>+911206864811</td>\n",
       "      <td>911206864811</td>\n",
       "      <td>2020-05-30 14:59:00</td>\n",
       "      <td>Dialed</td>\n",
       "      <td>00:00:00</td>\n",
       "    </tr>\n",
       "    <tr>\n",
       "      <th>1</th>\n",
       "      <td>01206618200</td>\n",
       "      <td>1206618200</td>\n",
       "      <td>2020-05-30 14:58:00</td>\n",
       "      <td>Dialed</td>\n",
       "      <td>00:00:11</td>\n",
       "    </tr>\n",
       "    <tr>\n",
       "      <th>2</th>\n",
       "      <td>+911206864811</td>\n",
       "      <td>911206864811</td>\n",
       "      <td>2020-05-30 14:58:00</td>\n",
       "      <td>Dialed</td>\n",
       "      <td>00:00:00</td>\n",
       "    </tr>\n",
       "    <tr>\n",
       "      <th>3</th>\n",
       "      <td>+911206864811</td>\n",
       "      <td>911206864811</td>\n",
       "      <td>2020-05-30 14:52:00</td>\n",
       "      <td>Missed</td>\n",
       "      <td>00:00:00</td>\n",
       "    </tr>\n",
       "    <tr>\n",
       "      <th>4</th>\n",
       "      <td>+911206864811</td>\n",
       "      <td>911206864811</td>\n",
       "      <td>2020-05-30 11:41:00</td>\n",
       "      <td>Received</td>\n",
       "      <td>00:03:27</td>\n",
       "    </tr>\n",
       "  </tbody>\n",
       "</table>\n",
       "</div>"
      ],
      "text/plain": [
       "            Name   phoneNumber                Date  Call log Duration\n",
       "0  +911206864811  911206864811 2020-05-30 14:59:00    Dialed 00:00:00\n",
       "1    01206618200    1206618200 2020-05-30 14:58:00    Dialed 00:00:11\n",
       "2  +911206864811  911206864811 2020-05-30 14:58:00    Dialed 00:00:00\n",
       "3  +911206864811  911206864811 2020-05-30 14:52:00    Missed 00:00:00\n",
       "4  +911206864811  911206864811 2020-05-30 11:41:00  Received 00:03:27"
      ]
     },
     "execution_count": 2,
     "metadata": {},
     "output_type": "execute_result"
    }
   ],
   "source": [
    "dataset = pd.read_csv(\"RitvikCallData.csv\")\n",
    "dataset.fillna(0)\n",
    "\n",
    "# Making a few columns computation-able\n",
    "dataset[\"Date\"] = pd.to_datetime(dataset[\"Date\"])\n",
    "dataset[\"Duration\"] = pd.to_timedelta(dataset[\"Duration\"])\n",
    "\n",
    "# Printing dataset info and first 5 entries\n",
    "print(dataset.dtypes)\n",
    "dataset.head()"
   ]
  },
  {
   "cell_type": "markdown",
   "metadata": {},
   "source": [
    "## Finding calls made during the day (9 am to 8 pm)\n",
    "\n",
    "One importat criteria found by research is if a person makes majority of calls during the day, then he is more likey to repay small amounts of loan. To find this, we analyse the **dt.hour** f the **Date** column, so that we can find count of calls made during the day."
   ]
  },
  {
   "cell_type": "code",
   "execution_count": 3,
   "metadata": {},
   "outputs": [],
   "source": [
    "# Array to contain all the \"hours\" from Date column\n",
    "Hour = np.array(dataset[\"Date\"].dt.hour)\n",
    "\n",
    "# List containing all 500 Names from Name column\n",
    "Name = dataset[\"Name\"]\n",
    "\n",
    "# List contaning all 500 corresponding Call Log details\n",
    "Call_log = dataset[\"Call log\"]"
   ]
  },
  {
   "cell_type": "code",
   "execution_count": 4,
   "metadata": {},
   "outputs": [
    {
     "name": "stdout",
     "output_type": "stream",
     "text": [
      "Total no. of calls made between 9 a.m. - 8 p.m. (out of 500):  327\n"
     ]
    }
   ],
   "source": [
    "# Computing Calls_during_day \n",
    "Calls_during_day = []\n",
    "j = 0\n",
    "\n",
    "# The loop checks through 500 entries of \"Hour\" list to see which is between 9 and 20 (8 pm). \n",
    "# Correspondingly, entry from Name is appended to List\n",
    "for i in range(len(Hour)):\n",
    "    if((Hour[i] >= 9) & (Hour[i] <= 20)):\n",
    "        Calls_during_day.append(Name[i])\n",
    "\n",
    "\n",
    "print(\"Total no. of calls made between 9 a.m. - 8 p.m. (out of 500): \", len(Calls_during_day))"
   ]
  },
  {
   "cell_type": "markdown",
   "metadata": {},
   "source": [
    "## Finding percentage\n",
    "\n",
    "In the data of call records, there are many duplicate entries. By the below code, we find there are actually only **50** unique entries.\n",
    "\n",
    "We then find no. of unique entries made during day. They were **48**\n",
    "\n",
    "Therefore, for this case, percentage is **96%**"
   ]
  },
  {
   "cell_type": "code",
   "execution_count": 5,
   "metadata": {},
   "outputs": [
    {
     "name": "stdout",
     "output_type": "stream",
     "text": [
      "Total no. of Names in record: 50 \n",
      "Total no. of call Names made during day: 48\n",
      "Percentage of calls made during 9 am and 8 pm = 96.0%\n"
     ]
    }
   ],
   "source": [
    "# Variable to store the %age\n",
    "p = (len(set(Calls_during_day))/len(set(Name))) * 100\n",
    "\n",
    "print(f\"Total no. of Names in record: {len(set(Name))} \\nTotal no. of call Names made during day: {len(set(Calls_during_day))}\")\n",
    "print(f\"Percentage of calls made during 9 am and 8 pm = {p}%\")"
   ]
  },
  {
   "cell_type": "markdown",
   "metadata": {},
   "source": [
    "## Visualization\n",
    "\n",
    "**Finding the count of Dialed, Received, Missed and Rejected calls can be important result. Therefore, the below graph shows the count of call records for these four fields.**"
   ]
  },
  {
   "cell_type": "code",
   "execution_count": 6,
   "metadata": {},
   "outputs": [
    {
     "data": {
      "image/png": "[encoded data removed]",
      "text/plain": [
       "<Figure size 432x288 with 1 Axes>"
      ]
     },
     "metadata": {},
     "output_type": "display_data"
    }
   ],
   "source": [
    "# Visualizing the distribution\n",
    "sns.set()\n",
    "labels = set(Name)\n",
    "data = dataset[\"Name\"]\n",
    "plt.hist(dataset['Call log'])\n",
    "plt.xlabel(\"Call logs\")\n",
    "plt.ylabel(\"Count\")\n",
    "plt.title(\"Distribution of call logs\")\n",
    "plt.show()"
   ]
  },
  {
   "cell_type": "markdown",
   "metadata": {},
   "source": [
    "**Another important visualization is about the duration. Here we find the total duration for Dialed, Received, Missed and Rejected calls. Since, Missed and Rejected calls have 0 duration, we plot the duration of Dialed and Received calls.**"
   ]
  },
  {
   "cell_type": "code",
   "execution_count": 7,
   "metadata": {},
   "outputs": [
    {
     "name": "stdout",
     "output_type": "stream",
     "text": [
      "Total duration for Dialed call logs:  1 days 01:51:20\n",
      "\n",
      "Total duration for Missed call logs:  0 days 00:00:00\n",
      "\n",
      "Total duration for Received call logs:  0 days 09:09:26\n",
      "\n",
      "Total duration for Rejected call logs:  0 days 00:00:00\n",
      "\n",
      "Total hours on phone: 1 days 11:00:46\n"
     ]
    },
    {
     "data": {
      "image/png": "[encoded data removed]",
      "text/plain": [
       "<Figure size 432x288 with 1 Axes>"
      ]
     },
     "metadata": {},
     "output_type": "display_data"
    }
   ],
   "source": [
    "# Visualizing the Durations of Dialed and Received calls\n",
    "\n",
    "Dialed_hours = dataset[dataset[\"Call log\"]==\"Dialed\"].Duration.sum()\n",
    "print(\"Total duration for Dialed call logs: \", Dialed_hours)\n",
    "Missed_hours = dataset[dataset[\"Call log\"]==\"Missed\"].Duration.sum()\n",
    "print(\"\\nTotal duration for Missed call logs: \", Missed_hours)\n",
    "Received_hours = dataset[dataset[\"Call log\"]==\"Received\"].Duration.sum()\n",
    "print(\"\\nTotal duration for Received call logs: \", Received_hours)\n",
    "Rejected_hours = dataset[dataset[\"Call log\"]==\"Rejected\"].Duration.sum()\n",
    "print(\"\\nTotal duration for Rejected call logs: \", Rejected_hours)\n",
    "\n",
    "# Converting durations to Hours\n",
    "Dialed_hours = Dialed_hours / np.timedelta64(1,'h')\n",
    "Received_hours = Received_hours / np.timedelta64(1,'h')\n",
    "Total_call_hours = dataset.Duration.sum()\n",
    "\n",
    "print(f\"\\nTotal hours on phone: {Total_call_hours}\")\n",
    "\n",
    "# Plotting the results\n",
    "Calling_arrayList = [Dialed_hours, Received_hours]\n",
    "labels = [\"Dialed\", \"Received\"]\n",
    "sns.set()\n",
    "plt.bar(labels, Calling_arrayList)\n",
    "plt.xlabel(\"Call log\")\n",
    "plt.ylabel(\"Duration in Hours\")\n",
    "plt.title(\"Call logs vs Duration (in hours)\")\n",
    "plt.show()"
   ]
  },
  {
   "cell_type": "markdown",
   "metadata": {},
   "source": [
    "## Generating sub dataset\n",
    "\n",
    "For better understanding about each call record, we need to build a sub dataset called **sub_dt1**.\n",
    "\n",
    "In this new dataset, we want **Dialed_Count, Received_Count, Missed_Count and Rejected_count** for each call entry. \n",
    "Also, we need **Dialed_Duration, Received_Duration and Total_Duration** for each call record to see how much the person has talked with his/her circle.\n",
    "\n",
    "To do this, \n",
    "* We first generate **lists** of required data.\n",
    "* Then we make a **Dictionary**.\n",
    "* Finally we convert that Dictionary to DataFrame."
   ]
  },
  {
   "cell_type": "markdown",
   "metadata": {},
   "source": [
    "### Defining functions\n",
    "\n",
    "We need to compute many lists and apply many filters to our data. A good way to do that is by defining functions so that we can call it again and again.\n",
    "\n",
    "The three functions defined below has special tasks:\n",
    "* The first function computes count for Call logs, i.e. Dialed_Count, Received_Count, Missed_Count and Rejected_count.\n",
    "* The second function computes Total_Duration of every call record in our data.\n",
    "* The third function computes Dialed_Duration and Received_Duration for every call record in our data.\n",
    "\n",
    "*Note: All these computations are performed on **unique entries of Name**, i.e. 50 and not every entry (including duplicates), which is 500.*"
   ]
  },
  {
   "cell_type": "code",
   "execution_count": 9,
   "metadata": {},
   "outputs": [],
   "source": [
    "'''\n",
    "Defining function to compute count of Dialed, Received, Missed and Rejected calls for each entry.\n",
    "Defining function to compute total Dialed and Received Duration sum for each Name entry.\n",
    "Defining function to compute total Duration for each call Name entry.\n",
    "'''\n",
    "\n",
    "unique_name_entries = dataset.Name.unique()\n",
    "count = 0\n",
    "\n",
    "# Defining a function to generate a list for Call logs type: Function 1\n",
    "def Generate_callLogs_list(Type, List):\n",
    "    for i in range(len(unique_name_entries)):\n",
    "        count = 0\n",
    "        for j in range(len(Name)):\n",
    "            if(Name[j] == unique_name_entries[i]):\n",
    "                if(Call_log[j] == Type):\n",
    "                    count+=1\n",
    "        List.append(count)\n",
    "    return List\n",
    "\n",
    "\n",
    "# Defining a function to calculate Total, Dialed and Received duration for each name: Function 2\n",
    "def Calculate_total_duration(List):\n",
    "    for i in range(len(unique_name_entries)):\n",
    "        count = 0\n",
    "        for j in range(len(Name)):\n",
    "            count = dataset[dataset[\"Name\"] == unique_name_entries[i]].Duration.sum()\n",
    "        List.append(count)\n",
    "    return List\n",
    "\n",
    "# Defining a function to calculate Dialed and Received duration for each Name: Function 3\n",
    "def Calculate_type_duration(Type, List):\n",
    "    for i in range(len(unique_name_entries)):\n",
    "        count = 0\n",
    "        for j in range(len(Name)):\n",
    "            count = dataset[(dataset[\"Name\"] == unique_name_entries[i]) & (dataset[\"Call log\"] == Type)].Duration.sum()\n",
    "        List.append(count)\n",
    "    return List\n"
   ]
  },
  {
   "cell_type": "markdown",
   "metadata": {},
   "source": [
    "### Generating lists\n",
    "\n",
    "We now call the above functions to generate our Lists. \n",
    "\n",
    "The below code may take some more time than usual to compute (for every function call, loop runs for 25000 times and check for conditions)."
   ]
  },
  {
   "cell_type": "code",
   "execution_count": 10,
   "metadata": {},
   "outputs": [
    {
     "name": "stdout",
     "output_type": "stream",
     "text": [
      "Count of Dialed, Received, Missed and Rejected calls computed.\n",
      "\n",
      "Durations computed.\n"
     ]
    }
   ],
   "source": [
    "Dialed_count = []\n",
    "Received_count = []\n",
    "Missed_count = []\n",
    "Rejected_count = []\n",
    "\n",
    "Total_duration = []\n",
    "Dialed_duration = []\n",
    "Received_duration = []\n",
    "\n",
    "# Computing Counts\n",
    "Dialed_count = Generate_callLogs_list(\"Dialed\", Dialed_count)\n",
    "Received_count = Generate_callLogs_list(\"Received\", Received_count)\n",
    "Missed_count = Generate_callLogs_list(\"Missed\", Missed_count)\n",
    "Rejected_count = Generate_callLogs_list(\"Rejected\", Rejected_count)\n",
    "print(\"Count of Dialed, Received, Missed and Rejected calls computed.\")\n",
    "\n",
    "# Computng Durations\n",
    "Total_duration = Calculate_total_duration(Total_duration)\n",
    "Dialed_duration = Calculate_type_duration(\"Dialed\", Dialed_duration)\n",
    "Received_duration = Calculate_type_duration(\"Received\", Received_duration)\n",
    "print(\"\\nDurations computed.\")"
   ]
  },
  {
   "cell_type": "markdown",
   "metadata": {},
   "source": [
    "### Generating Dictionary and DataFrame\n",
    "\n",
    "We now build our **Dictionary** using our Lists, followed by generating the **DataFrame**."
   ]
  },
  {
   "cell_type": "code",
   "execution_count": 11,
   "metadata": {},
   "outputs": [
    {
     "data": {
      "text/html": [
       "<div>\n",
       "<style scoped>\n",
       "    .dataframe tbody tr th:only-of-type {\n",
       "        vertical-align: middle;\n",
       "    }\n",
       "\n",
       "    .dataframe tbody tr th {\n",
       "        vertical-align: top;\n",
       "    }\n",
       "\n",
       "    .dataframe thead th {\n",
       "        text-align: right;\n",
       "    }\n",
       "</style>\n",
       "<table border=\"1\" class=\"dataframe\">\n",
       "  <thead>\n",
       "    <tr style=\"text-align: right;\">\n",
       "      <th></th>\n",
       "      <th>Name</th>\n",
       "      <th>Dialed_Count</th>\n",
       "      <th>Received_Count</th>\n",
       "      <th>Missed_Count</th>\n",
       "      <th>Rejected_count</th>\n",
       "      <th>Dialed_Duration</th>\n",
       "      <th>Received_Duration</th>\n",
       "      <th>Total_Duration</th>\n",
       "    </tr>\n",
       "  </thead>\n",
       "  <tbody>\n",
       "    <tr>\n",
       "      <th>0</th>\n",
       "      <td>+911206864811</td>\n",
       "      <td>2</td>\n",
       "      <td>1</td>\n",
       "      <td>1</td>\n",
       "      <td>0</td>\n",
       "      <td>00:00:00</td>\n",
       "      <td>00:03:27</td>\n",
       "      <td>0 days 00:03:27</td>\n",
       "    </tr>\n",
       "    <tr>\n",
       "      <th>1</th>\n",
       "      <td>01206618200</td>\n",
       "      <td>1</td>\n",
       "      <td>0</td>\n",
       "      <td>0</td>\n",
       "      <td>0</td>\n",
       "      <td>00:00:11</td>\n",
       "      <td>NaT</td>\n",
       "      <td>0 days 00:00:11</td>\n",
       "    </tr>\n",
       "    <tr>\n",
       "      <th>2</th>\n",
       "      <td>Akanksha Nagpal</td>\n",
       "      <td>181</td>\n",
       "      <td>60</td>\n",
       "      <td>65</td>\n",
       "      <td>12</td>\n",
       "      <td>18:07:22</td>\n",
       "      <td>05:58:31</td>\n",
       "      <td>1 days 00:05:53</td>\n",
       "    </tr>\n",
       "    <tr>\n",
       "      <th>3</th>\n",
       "      <td>+911204402400</td>\n",
       "      <td>0</td>\n",
       "      <td>1</td>\n",
       "      <td>0</td>\n",
       "      <td>0</td>\n",
       "      <td>NaT</td>\n",
       "      <td>00:00:40</td>\n",
       "      <td>0 days 00:00:40</td>\n",
       "    </tr>\n",
       "    <tr>\n",
       "      <th>4</th>\n",
       "      <td>01204402400</td>\n",
       "      <td>1</td>\n",
       "      <td>0</td>\n",
       "      <td>0</td>\n",
       "      <td>0</td>\n",
       "      <td>00:01:07</td>\n",
       "      <td>NaT</td>\n",
       "      <td>0 days 00:01:07</td>\n",
       "    </tr>\n",
       "  </tbody>\n",
       "</table>\n",
       "</div>"
      ],
      "text/plain": [
       "              Name  Dialed_Count  Received_Count  Missed_Count  \\\n",
       "0    +911206864811             2               1             1   \n",
       "1      01206618200             1               0             0   \n",
       "2  Akanksha Nagpal           181              60            65   \n",
       "3    +911204402400             0               1             0   \n",
       "4      01204402400             1               0             0   \n",
       "\n",
       "   Rejected_count Dialed_Duration Received_Duration  Total_Duration  \n",
       "0               0        00:00:00          00:03:27 0 days 00:03:27  \n",
       "1               0        00:00:11               NaT 0 days 00:00:11  \n",
       "2              12        18:07:22          05:58:31 1 days 00:05:53  \n",
       "3               0             NaT          00:00:40 0 days 00:00:40  \n",
       "4               0        00:01:07               NaT 0 days 00:01:07  "
      ]
     },
     "execution_count": 11,
     "metadata": {},
     "output_type": "execute_result"
    }
   ],
   "source": [
    "# Making pandas dataframe for this data\n",
    "\n",
    "\n",
    "Dictionary = {\"Name\": unique_name_entries, \"Dialed_Count\": Dialed_count, \"Received_Count\": Received_count, \n",
    "             \"Missed_Count\": Missed_count, \"Rejected_count\": Rejected_count, \"Dialed_Duration\": Dialed_duration,\n",
    "             \"Received_Duration\": Received_duration, \"Total_Duration\": Total_duration}\n",
    "sub_dt1 = pd.DataFrame(Dictionary)\n",
    "sub_dt1.head()"
   ]
  },
  {
   "cell_type": "markdown",
   "metadata": {},
   "source": [
    "## Visualizing\n",
    "\n",
    "From the above sub dataset, we should know how much a person has talked on the corresponding count of Dialed and Received calls. Also, we should know that how much percentage of calls have approx how much total duration.\n",
    "\n",
    "For this reason, ECDF and Box plot are an importantant tool.\n",
    "\n",
    "### Making necessary changes\n",
    "\n",
    "Total, Dialed and Received duration clumns are currently of type **timedelta**, and will not be plotted.\n",
    "We change the type to array so that it can be plotted."
   ]
  },
  {
   "cell_type": "code",
   "execution_count": 25,
   "metadata": {},
   "outputs": [],
   "source": [
    "DD_array = np.array(sub_dt1.Dialed_Duration)\n",
    "DD_array = DD_array / np.timedelta64(1,'m')\n",
    "\n",
    "RD_array = np.array(sub_dt1.Received_Duration)\n",
    "RD_array = RD_array / np.timedelta64(1,'m')\n",
    "\n",
    "TD_array = np.array(sub_dt1.Total_Duration)\n",
    "TD_array = RD_array / np.timedelta64(1,'h')"
   ]
  },
  {
   "cell_type": "markdown",
   "metadata": {},
   "source": [
    "### Plotting ECDF\n",
    "\n",
    "We plot the ECDF plot for Total_Duration. Here, Total duration has been converted to hours because we want to look at the overall picture."
   ]
  },
  {
   "cell_type": "code",
   "execution_count": 31,
   "metadata": {},
   "outputs": [
    {
     "data": {
      "image/png": "[encoded data removed]",
      "text/plain": [
       "<Figure size 432x288 with 1 Axes>"
      ]
     },
     "metadata": {},
     "output_type": "display_data"
    }
   ],
   "source": [
    "# Generating 'y' for ECDF plot\n",
    "y = np.arange(1, len(TD_array) + 1)/len(TD_array)\n",
    "\n",
    "# Plotting\n",
    "plt.plot(TD_array, y, marker = \".\", linestyle = \"none\")\n",
    "plt.xlabel(\"Total duration of calls (in hours)\")\n",
    "plt.ylabel(\"%age of calls\")\n",
    "plt.title(\"ECDF plot for Total duration\")\n",
    "plt.show()"
   ]
  },
  {
   "cell_type": "markdown",
   "metadata": {},
   "source": [
    "### Generating box plots\n",
    "\n",
    "The line shows the mean value of the data. The upper and lower line of box shows 75th and 25th percentile of the data. Others are outliers. This plot gives us an understanding about the data."
   ]
  },
  {
   "cell_type": "code",
   "execution_count": 30,
   "metadata": {},
   "outputs": [
    {
     "name": "stdout",
     "output_type": "stream",
     "text": [
      "Total no. of unique Dialed_Count: 9\n",
      "\n"
     ]
    },
    {
     "data": {
      "image/png": "[encoded data removed]",
      "text/plain": [
       "<Figure size 432x288 with 1 Axes>"
      ]
     },
     "metadata": {},
     "output_type": "display_data"
    },
    {
     "name": "stdout",
     "output_type": "stream",
     "text": [
      "Total no. of unique Received_Count: 7\n"
     ]
    },
    {
     "data": {
      "image/png": "[encoded data removed]",
      "text/plain": [
       "<Figure size 432x288 with 1 Axes>"
      ]
     },
     "metadata": {},
     "output_type": "display_data"
    }
   ],
   "source": [
    "# Generating box plot for observing variance in Dialed Calls and Duration\n",
    "print(f\"Total no. of unique Dialed_Count: {len(sub_dt1.Dialed_Count.unique())}\\n\")\n",
    "sns.boxplot(sub_dt1.Dialed_Count, DD_array)\n",
    "plt.xlabel(\"Count of Dialed calls\")\n",
    "plt.ylabel(\"Duration in minutes\")\n",
    "plt.title(\"Variation of duration and no. of Dialed calls\")\n",
    "plt.show()\n",
    "\n",
    "# Generating box plot for observing variance in Received Calls and Duration\n",
    "print(f\"Total no. of unique Received_Count: {len(sub_dt1.Received_Count.unique())}\")\n",
    "sns.boxplot(sub_dt1.Received_Count, RD_array)\n",
    "plt.xlabel(\"Count of Received calls\")\n",
    "plt.ylabel(\"Duration in minutes\")\n",
    "plt.title(\"Variation of duration and no. of Received calls\")\n",
    "plt.show()"
   ]
  },
  {
   "cell_type": "code",
   "execution_count": null,
   "metadata": {},
   "outputs": [],
   "source": []
  },
  {
   "cell_type": "code",
   "execution_count": null,
   "metadata": {},
   "outputs": [],
   "source": []
  },
  {
   "cell_type": "code",
   "execution_count": null,
   "metadata": {},
   "outputs": [],
   "source": []
  },
  {
   "cell_type": "code",
   "execution_count": null,
   "metadata": {},
   "outputs": [],
   "source": []
  }
 ],
 "metadata": {
  "kernelspec": {
   "display_name": "Python 3",
   "language": "python",
   "name": "python3"
  },
  "language_info": {
   "codemirror_mode": {
    "name": "ipython",
    "version": 3
   },
   "file_extension": ".py",
   "mimetype": "text/x-python",
   "name": "python",
   "nbconvert_exporter": "python",
   "pygments_lexer": "ipython3",
   "version": "3.7.6"
  }
 },
 "nbformat": 4,
 "nbformat_minor": 4
}
